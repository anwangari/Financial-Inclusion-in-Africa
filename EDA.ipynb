{
 "cells": [
  {
   "cell_type": "markdown",
   "id": "e3f7a245",
   "metadata": {},
   "source": [
    "# Financial Inclusion In Africa\n",
    "The objective of this project is to create a machine learning model to predict which individuals are most likely to have or use a bank account. The models and solutions developed can provide an indication of the state of financial inclusion in Kenya, Rwanda, Tanzania and Uganda, while providing insights into some of the key factors driving individuals’ financial security.\n",
    "\n",
    "### ML Workflow:\n",
    "\n",
    "#### Prepare Data\n",
    "- Import\n",
    "- Exploratory Data Analysis\n",
    "- Resample\n",
    "\n",
    "#### Build Model\n",
    "- Baseline\n",
    "- Iterate\n",
    "- Evaluate\n",
    "\n",
    "#### Communicate Results\n",
    "- Feature Importances and Ethical Considerations\n",
    "    "
   ]
  },
  {
   "cell_type": "markdown",
   "id": "1dba7364",
   "metadata": {},
   "source": [
    "## Prepare Data\n",
    "\n",
    "### Import"
   ]
  },
  {
   "cell_type": "code",
   "execution_count": 1,
   "id": "ebe55781",
   "metadata": {},
   "outputs": [],
   "source": [
    "import pandas as pd\n",
    "import matplotlib.pyplot as plt\n",
    "import plotly.express as px\n",
    "import seaborn as sns"
   ]
  },
  {
   "cell_type": "code",
   "execution_count": 2,
   "id": "b46b170e",
   "metadata": {
    "scrolled": true
   },
   "outputs": [
    {
     "name": "stdout",
     "output_type": "stream",
     "text": [
      "(23524, 13)\n",
      "<class 'pandas.core.frame.DataFrame'>\n",
      "RangeIndex: 23524 entries, 0 to 23523\n",
      "Data columns (total 13 columns):\n",
      " #   Column                  Non-Null Count  Dtype \n",
      "---  ------                  --------------  ----- \n",
      " 0   country                 23524 non-null  object\n",
      " 1   year                    23524 non-null  int64 \n",
      " 2   uniqueid                23524 non-null  object\n",
      " 3   bank_account            23524 non-null  object\n",
      " 4   location_type           23524 non-null  object\n",
      " 5   cellphone_access        23524 non-null  object\n",
      " 6   household_size          23524 non-null  int64 \n",
      " 7   age_of_respondent       23524 non-null  int64 \n",
      " 8   gender_of_respondent    23524 non-null  object\n",
      " 9   relationship_with_head  23524 non-null  object\n",
      " 10  marital_status          23524 non-null  object\n",
      " 11  education_level         23524 non-null  object\n",
      " 12  job_type                23524 non-null  object\n",
      "dtypes: int64(3), object(10)\n",
      "memory usage: 2.3+ MB\n",
      "None\n"
     ]
    },
    {
     "data": {
      "text/html": [
       "<div>\n",
       "<style scoped>\n",
       "    .dataframe tbody tr th:only-of-type {\n",
       "        vertical-align: middle;\n",
       "    }\n",
       "\n",
       "    .dataframe tbody tr th {\n",
       "        vertical-align: top;\n",
       "    }\n",
       "\n",
       "    .dataframe thead th {\n",
       "        text-align: right;\n",
       "    }\n",
       "</style>\n",
       "<table border=\"1\" class=\"dataframe\">\n",
       "  <thead>\n",
       "    <tr style=\"text-align: right;\">\n",
       "      <th></th>\n",
       "      <th>country</th>\n",
       "      <th>year</th>\n",
       "      <th>uniqueid</th>\n",
       "      <th>bank_account</th>\n",
       "      <th>location_type</th>\n",
       "      <th>cellphone_access</th>\n",
       "      <th>household_size</th>\n",
       "      <th>age_of_respondent</th>\n",
       "      <th>gender_of_respondent</th>\n",
       "      <th>relationship_with_head</th>\n",
       "      <th>marital_status</th>\n",
       "      <th>education_level</th>\n",
       "      <th>job_type</th>\n",
       "    </tr>\n",
       "  </thead>\n",
       "  <tbody>\n",
       "    <tr>\n",
       "      <th>0</th>\n",
       "      <td>Kenya</td>\n",
       "      <td>2018</td>\n",
       "      <td>uniqueid_1</td>\n",
       "      <td>Yes</td>\n",
       "      <td>Rural</td>\n",
       "      <td>Yes</td>\n",
       "      <td>3</td>\n",
       "      <td>24</td>\n",
       "      <td>Female</td>\n",
       "      <td>Spouse</td>\n",
       "      <td>Married/Living together</td>\n",
       "      <td>Secondary education</td>\n",
       "      <td>Self employed</td>\n",
       "    </tr>\n",
       "    <tr>\n",
       "      <th>1</th>\n",
       "      <td>Kenya</td>\n",
       "      <td>2018</td>\n",
       "      <td>uniqueid_2</td>\n",
       "      <td>No</td>\n",
       "      <td>Rural</td>\n",
       "      <td>No</td>\n",
       "      <td>5</td>\n",
       "      <td>70</td>\n",
       "      <td>Female</td>\n",
       "      <td>Head of Household</td>\n",
       "      <td>Widowed</td>\n",
       "      <td>No formal education</td>\n",
       "      <td>Government Dependent</td>\n",
       "    </tr>\n",
       "    <tr>\n",
       "      <th>2</th>\n",
       "      <td>Kenya</td>\n",
       "      <td>2018</td>\n",
       "      <td>uniqueid_3</td>\n",
       "      <td>Yes</td>\n",
       "      <td>Urban</td>\n",
       "      <td>Yes</td>\n",
       "      <td>5</td>\n",
       "      <td>26</td>\n",
       "      <td>Male</td>\n",
       "      <td>Other relative</td>\n",
       "      <td>Single/Never Married</td>\n",
       "      <td>Vocational/Specialised training</td>\n",
       "      <td>Self employed</td>\n",
       "    </tr>\n",
       "    <tr>\n",
       "      <th>3</th>\n",
       "      <td>Kenya</td>\n",
       "      <td>2018</td>\n",
       "      <td>uniqueid_4</td>\n",
       "      <td>No</td>\n",
       "      <td>Rural</td>\n",
       "      <td>Yes</td>\n",
       "      <td>5</td>\n",
       "      <td>34</td>\n",
       "      <td>Female</td>\n",
       "      <td>Head of Household</td>\n",
       "      <td>Married/Living together</td>\n",
       "      <td>Primary education</td>\n",
       "      <td>Formally employed Private</td>\n",
       "    </tr>\n",
       "    <tr>\n",
       "      <th>4</th>\n",
       "      <td>Kenya</td>\n",
       "      <td>2018</td>\n",
       "      <td>uniqueid_5</td>\n",
       "      <td>No</td>\n",
       "      <td>Urban</td>\n",
       "      <td>No</td>\n",
       "      <td>8</td>\n",
       "      <td>26</td>\n",
       "      <td>Male</td>\n",
       "      <td>Child</td>\n",
       "      <td>Single/Never Married</td>\n",
       "      <td>Primary education</td>\n",
       "      <td>Informally employed</td>\n",
       "    </tr>\n",
       "  </tbody>\n",
       "</table>\n",
       "</div>"
      ],
      "text/plain": [
       "  country  year    uniqueid bank_account location_type cellphone_access  \\\n",
       "0   Kenya  2018  uniqueid_1          Yes         Rural              Yes   \n",
       "1   Kenya  2018  uniqueid_2           No         Rural               No   \n",
       "2   Kenya  2018  uniqueid_3          Yes         Urban              Yes   \n",
       "3   Kenya  2018  uniqueid_4           No         Rural              Yes   \n",
       "4   Kenya  2018  uniqueid_5           No         Urban               No   \n",
       "\n",
       "   household_size  age_of_respondent gender_of_respondent  \\\n",
       "0               3                 24               Female   \n",
       "1               5                 70               Female   \n",
       "2               5                 26                 Male   \n",
       "3               5                 34               Female   \n",
       "4               8                 26                 Male   \n",
       "\n",
       "  relationship_with_head           marital_status  \\\n",
       "0                 Spouse  Married/Living together   \n",
       "1      Head of Household                  Widowed   \n",
       "2         Other relative     Single/Never Married   \n",
       "3      Head of Household  Married/Living together   \n",
       "4                  Child     Single/Never Married   \n",
       "\n",
       "                   education_level                   job_type  \n",
       "0              Secondary education              Self employed  \n",
       "1              No formal education       Government Dependent  \n",
       "2  Vocational/Specialised training              Self employed  \n",
       "3                Primary education  Formally employed Private  \n",
       "4                Primary education        Informally employed  "
      ]
     },
     "execution_count": 2,
     "metadata": {},
     "output_type": "execute_result"
    }
   ],
   "source": [
    "data = pd.read_csv(\"Train.csv\")\n",
    "\n",
    "print(data.shape)\n",
    "print(data.info())\n",
    "data.head()"
   ]
  },
  {
   "cell_type": "markdown",
   "id": "ef8b6f06",
   "metadata": {},
   "source": [
    "## Exploratory Data Analysis\n",
    "\n",
    "### Bank Account Access (Target Vector)"
   ]
  },
  {
   "cell_type": "code",
   "execution_count": 3,
   "id": "9a4e22ee",
   "metadata": {
    "scrolled": true
   },
   "outputs": [
    {
     "name": "stdout",
     "output_type": "stream",
     "text": [
      "No     0.859208\n",
      "Yes    0.140792\n",
      "Name: bank_account, dtype: float64\n"
     ]
    },
    {
     "data": {
      "image/png": "[encoded data removed]",
      "text/plain": [
       "<Figure size 432x288 with 1 Axes>"
      ]
     },
     "metadata": {},
     "output_type": "display_data"
    }
   ],
   "source": [
    "bank = data[\"bank_account\"].value_counts(normalize=True)\n",
    "print(bank)\n",
    "bank.plot(\n",
    "    kind=\"pie\"\n",
    "    );"
   ]
  },
  {
   "cell_type": "markdown",
   "id": "dc6a0c12",
   "metadata": {},
   "source": [
    "The data is **Imbalanced** since the proportion of the test group that has access to a bank account is significantly lower than the ones who do not have access to a bank account. (perform over sampling)"
   ]
  },
  {
   "cell_type": "markdown",
   "id": "5c7c7a1b",
   "metadata": {},
   "source": [
    "### Country"
   ]
  },
  {
   "cell_type": "code",
   "execution_count": 4,
   "id": "328947bd",
   "metadata": {},
   "outputs": [
    {
     "data": {
      "image/png": "[encoded data removed]",
      "text/plain": [
       "<Figure size 432x288 with 1 Axes>"
      ]
     },
     "metadata": {
      "needs_background": "light"
     },
     "output_type": "display_data"
    }
   ],
   "source": [
    "countries = data[\"country\"].value_counts(normalize=True)\n",
    "countries.plot(kind=\"barh\", title=\"Country Representation\")\n",
    "plt.ylabel(\"Country\")\n",
    "plt.xlabel(\"Proportion of Interviews per Country\");"
   ]
  },
  {
   "cell_type": "markdown",
   "id": "baac2799",
   "metadata": {},
   "source": [
    "We are able to see that a majority of intervies happened in Rwanda, with Uganda having the lowest representation."
   ]
  },
  {
   "cell_type": "markdown",
   "id": "3cd01f75",
   "metadata": {},
   "source": [
    "### Taking a closer look at the 'uniqueid' column\n",
    "While assesing the data, we noted that the 'uniqueid' colunm contains dulicate values: Only 37 percent of the values are truly unique"
   ]
  },
  {
   "cell_type": "code",
   "execution_count": 5,
   "id": "881dea5c",
   "metadata": {},
   "outputs": [
    {
     "data": {
      "image/png": "[encoded data removed]",
      "text/plain": [
       "<Figure size 432x288 with 1 Axes>"
      ]
     },
     "metadata": {},
     "output_type": "display_data"
    }
   ],
   "source": [
    "unique_id = data[\"uniqueid\"].duplicated().value_counts(normalize=True)\n",
    "unique_id.plot(kind=\"pie\", title=\"Is 'uniqueid' duplicated?\");"
   ]
  },
  {
   "cell_type": "markdown",
   "id": "27fdf33d",
   "metadata": {},
   "source": [
    "Since the 'uniqueid' column does not affect analysis. It would be worth checking if the rest of the data is similar along rows with duplicated 'uniqueid'"
   ]
  },
  {
   "cell_type": "code",
   "execution_count": 6,
   "id": "a093056b",
   "metadata": {},
   "outputs": [
    {
     "data": {
      "text/html": [
       "<div>\n",
       "<style scoped>\n",
       "    .dataframe tbody tr th:only-of-type {\n",
       "        vertical-align: middle;\n",
       "    }\n",
       "\n",
       "    .dataframe tbody tr th {\n",
       "        vertical-align: top;\n",
       "    }\n",
       "\n",
       "    .dataframe thead th {\n",
       "        text-align: right;\n",
       "    }\n",
       "</style>\n",
       "<table border=\"1\" class=\"dataframe\">\n",
       "  <thead>\n",
       "    <tr style=\"text-align: right;\">\n",
       "      <th></th>\n",
       "      <th>country</th>\n",
       "      <th>year</th>\n",
       "      <th>uniqueid</th>\n",
       "      <th>bank_account</th>\n",
       "      <th>location_type</th>\n",
       "      <th>cellphone_access</th>\n",
       "      <th>household_size</th>\n",
       "      <th>age_of_respondent</th>\n",
       "      <th>gender_of_respondent</th>\n",
       "      <th>relationship_with_head</th>\n",
       "      <th>marital_status</th>\n",
       "      <th>education_level</th>\n",
       "      <th>job_type</th>\n",
       "    </tr>\n",
       "  </thead>\n",
       "  <tbody>\n",
       "    <tr>\n",
       "      <th>0</th>\n",
       "      <td>Kenya</td>\n",
       "      <td>2018</td>\n",
       "      <td>uniqueid_1</td>\n",
       "      <td>Yes</td>\n",
       "      <td>Rural</td>\n",
       "      <td>Yes</td>\n",
       "      <td>3</td>\n",
       "      <td>24</td>\n",
       "      <td>Female</td>\n",
       "      <td>Spouse</td>\n",
       "      <td>Married/Living together</td>\n",
       "      <td>Secondary education</td>\n",
       "      <td>Self employed</td>\n",
       "    </tr>\n",
       "    <tr>\n",
       "      <th>6068</th>\n",
       "      <td>Rwanda</td>\n",
       "      <td>2016</td>\n",
       "      <td>uniqueid_1</td>\n",
       "      <td>No</td>\n",
       "      <td>Urban</td>\n",
       "      <td>Yes</td>\n",
       "      <td>7</td>\n",
       "      <td>18</td>\n",
       "      <td>Female</td>\n",
       "      <td>Child</td>\n",
       "      <td>Single/Never Married</td>\n",
       "      <td>Secondary education</td>\n",
       "      <td>Remittance Dependent</td>\n",
       "    </tr>\n",
       "    <tr>\n",
       "      <th>14803</th>\n",
       "      <td>Tanzania</td>\n",
       "      <td>2017</td>\n",
       "      <td>uniqueid_1</td>\n",
       "      <td>No</td>\n",
       "      <td>Rural</td>\n",
       "      <td>Yes</td>\n",
       "      <td>6</td>\n",
       "      <td>22</td>\n",
       "      <td>Female</td>\n",
       "      <td>Child</td>\n",
       "      <td>Divorced/Seperated</td>\n",
       "      <td>Secondary education</td>\n",
       "      <td>No Income</td>\n",
       "    </tr>\n",
       "    <tr>\n",
       "      <th>21423</th>\n",
       "      <td>Uganda</td>\n",
       "      <td>2018</td>\n",
       "      <td>uniqueid_1</td>\n",
       "      <td>No</td>\n",
       "      <td>Rural</td>\n",
       "      <td>No</td>\n",
       "      <td>5</td>\n",
       "      <td>32</td>\n",
       "      <td>Female</td>\n",
       "      <td>Head of Household</td>\n",
       "      <td>Divorced/Seperated</td>\n",
       "      <td>Primary education</td>\n",
       "      <td>Other Income</td>\n",
       "    </tr>\n",
       "  </tbody>\n",
       "</table>\n",
       "</div>"
      ],
      "text/plain": [
       "        country  year    uniqueid bank_account location_type cellphone_access  \\\n",
       "0         Kenya  2018  uniqueid_1          Yes         Rural              Yes   \n",
       "6068     Rwanda  2016  uniqueid_1           No         Urban              Yes   \n",
       "14803  Tanzania  2017  uniqueid_1           No         Rural              Yes   \n",
       "21423    Uganda  2018  uniqueid_1           No         Rural               No   \n",
       "\n",
       "       household_size  age_of_respondent gender_of_respondent  \\\n",
       "0                   3                 24               Female   \n",
       "6068                7                 18               Female   \n",
       "14803               6                 22               Female   \n",
       "21423               5                 32               Female   \n",
       "\n",
       "      relationship_with_head           marital_status      education_level  \\\n",
       "0                     Spouse  Married/Living together  Secondary education   \n",
       "6068                   Child     Single/Never Married  Secondary education   \n",
       "14803                  Child       Divorced/Seperated  Secondary education   \n",
       "21423      Head of Household       Divorced/Seperated    Primary education   \n",
       "\n",
       "                   job_type  \n",
       "0             Self employed  \n",
       "6068   Remittance Dependent  \n",
       "14803             No Income  \n",
       "21423          Other Income  "
      ]
     },
     "execution_count": 6,
     "metadata": {},
     "output_type": "execute_result"
    }
   ],
   "source": [
    "data[data[\"uniqueid\"] == \"uniqueid_1\"]"
   ]
  },
  {
   "cell_type": "markdown",
   "id": "9f661e63",
   "metadata": {},
   "source": [
    "We satisfactorily conclude that unique IDs are same for different countries as shown above"
   ]
  },
  {
   "cell_type": "markdown",
   "id": "8c95d723",
   "metadata": {},
   "source": [
    "### Distribution of Ages"
   ]
  },
  {
   "cell_type": "code",
   "execution_count": 7,
   "id": "00c279f3",
   "metadata": {
    "scrolled": false
   },
   "outputs": [
    {
     "data": {
      "image/png": "[encoded data removed]",
      "text/plain": [
       "<Figure size 432x288 with 1 Axes>"
      ]
     },
     "metadata": {
      "needs_background": "light"
     },
     "output_type": "display_data"
    }
   ],
   "source": [
    "plt.hist(data[\"age_of_respondent\"])\n",
    "plt.title(\"Distribution of Ages of Respondents\")\n",
    "plt.xlabel(\"Age of Repondents\")\n",
    "plt.ylabel(\"Frequency\");"
   ]
  },
  {
   "cell_type": "code",
   "execution_count": 8,
   "id": "66b058e5",
   "metadata": {},
   "outputs": [
    {
     "data": {
      "image/png": "[encoded data removed]",
      "text/plain": [
       "<Figure size 432x288 with 1 Axes>"
      ]
     },
     "metadata": {
      "needs_background": "light"
     },
     "output_type": "display_data"
    }
   ],
   "source": [
    "plt.boxplot(data[\"age_of_respondent\"])\n",
    "plt.title(\"Distribution of Ages of Respondents\")\n",
    "plt.ylabel(\"Age of Repondents\");"
   ]
  },
  {
   "cell_type": "markdown",
   "id": "5e22414b",
   "metadata": {},
   "source": [
    "The data is skewed. It might help to trim it to include respondents who are between 16 and 80 years old"
   ]
  },
  {
   "cell_type": "code",
   "execution_count": 9,
   "id": "35f4a59b",
   "metadata": {},
   "outputs": [
    {
     "data": {
      "image/png": "[encoded data removed]",
      "text/plain": [
       "<Figure size 432x288 with 1 Axes>"
      ]
     },
     "metadata": {
      "needs_background": "light"
     },
     "output_type": "display_data"
    }
   ],
   "source": [
    "new_data = data[data[\"age_of_respondent\"].between(16, 80)]\n",
    "plt.hist(new_data[\"age_of_respondent\"])\n",
    "plt.title(\"Distribution of Ages of Respondents\")\n",
    "plt.xlabel(\"Age of Repondents\")\n",
    "plt.ylabel(\"Frequency\");"
   ]
  },
  {
   "cell_type": "markdown",
   "id": "98bf26c2",
   "metadata": {},
   "source": [
    "The data remains skewed even after treaming it. The majority of the respondents are in the range of 16 and 40 years old\n",
    "(We shall consider this distribution in picking a model that is not affected by skewness)"
   ]
  },
  {
   "cell_type": "markdown",
   "id": "27c495bb",
   "metadata": {},
   "source": [
    "### Average Household Size by Country"
   ]
  },
  {
   "cell_type": "code",
   "execution_count": 10,
   "id": "5a143ac1",
   "metadata": {
    "scrolled": false
   },
   "outputs": [
    {
     "data": {
      "image/png": "[encoded data removed]",
      "text/plain": [
       "<Figure size 432x288 with 1 Axes>"
      ]
     },
     "metadata": {
      "needs_background": "light"
     },
     "output_type": "display_data"
    }
   ],
   "source": [
    "hh_size_avg = data.groupby(data[\"country\"])[\"household_size\"].mean()\n",
    "hh_size_avg.plot(\n",
    "    kind='bar',\n",
    "    title=\"Average Household Size by Country\",\n",
    "    ylabel=\"Average Household Size\",\n",
    "    \n",
    ");"
   ]
  },
  {
   "cell_type": "markdown",
   "id": "4e37c71e",
   "metadata": {},
   "source": [
    "### Relationship with Household Head"
   ]
  },
  {
   "cell_type": "code",
   "execution_count": 11,
   "id": "ce8c45b9",
   "metadata": {},
   "outputs": [
    {
     "data": {
      "image/png": "[encoded data removed]",
      "text/plain": [
       "<Figure size 432x288 with 1 Axes>"
      ]
     },
     "metadata": {
      "needs_background": "light"
     },
     "output_type": "display_data"
    }
   ],
   "source": [
    "hhhead_dict = data[\"relationship_with_head\"].value_counts().to_dict()\n",
    "\n",
    "sns.countplot(\n",
    "    x=\"relationship_with_head\",\n",
    "    hue=\"bank_account\",\n",
    "    order=hhhead_dict,\n",
    "    data=data\n",
    ")\n",
    "plt.title(\"Relationship with Head: With vs Without Bank Account\");"
   ]
  },
  {
   "cell_type": "markdown",
   "id": "effeb8b8",
   "metadata": {},
   "source": [
    "### Cell Phone Access"
   ]
  },
  {
   "cell_type": "code",
   "execution_count": 12,
   "id": "5e296870",
   "metadata": {},
   "outputs": [
    {
     "data": {
      "image/png": "[encoded data removed]",
      "text/plain": [
       "<Figure size 432x288 with 1 Axes>"
      ]
     },
     "metadata": {
      "needs_background": "light"
     },
     "output_type": "display_data"
    }
   ],
   "source": [
    "sns.countplot(\n",
    "    x=\"cellphone_access\",\n",
    "    hue=\"bank_account\",\n",
    "    data=data\n",
    ")\n",
    "plt.title(\"Cell Phone Access: With vs Without Bank Account\");"
   ]
  },
  {
   "cell_type": "markdown",
   "id": "cbadbfa0",
   "metadata": {},
   "source": [
    "This raw data visualization shows a high relationship between owning a mobile phone and having a bank account. Almost everyone who does not own a mobile phone, does not have a bank account."
   ]
  },
  {
   "cell_type": "markdown",
   "id": "05080312",
   "metadata": {},
   "source": [
    "### Education Level"
   ]
  },
  {
   "cell_type": "code",
   "execution_count": 13,
   "id": "e22761ee",
   "metadata": {},
   "outputs": [
    {
     "data": {
      "text/plain": [
       "{'No formal education': 4515,\n",
       " 'Primary education': 12791,\n",
       " 'Tertiary education': 1157,\n",
       " 'Vocational/Specialised training': 803,\n",
       " 'Other/Dont know/RTA': 35}"
      ]
     },
     "execution_count": 13,
     "metadata": {},
     "output_type": "execute_result"
    }
   ],
   "source": [
    "el_dict = data[\"education_level\"].value_counts().to_dict()\n",
    "elevel_dict = {\n",
    "    'No formal education': 4515,\n",
    "    'Primary education': 12791,\n",
    "    'Tertiary education': 1157,\n",
    "    'Vocational/Specialised training': 803,\n",
    "    'Other/Dont know/RTA': 35\n",
    "}\n",
    "elevel_dict"
   ]
  },
  {
   "cell_type": "code",
   "execution_count": 14,
   "id": "90520c3d",
   "metadata": {
    "scrolled": true
   },
   "outputs": [
    {
     "data": {
      "image/png": "[encoded data removed]",
      "text/plain": [
       "<Figure size 432x288 with 1 Axes>"
      ]
     },
     "metadata": {
      "needs_background": "light"
     },
     "output_type": "display_data"
    }
   ],
   "source": [
    "sns.countplot(\n",
    "    y=\"education_level\",\n",
    "    hue=\"bank_account\",\n",
    "    order=elevel_dict,\n",
    "    data=data\n",
    ")\n",
    "plt.title(\"Education Level: With vs Without Bank Account\");"
   ]
  },
  {
   "cell_type": "code",
   "execution_count": 15,
   "id": "da475bd6",
   "metadata": {},
   "outputs": [
    {
     "name": "stdout",
     "output_type": "stream",
     "text": [
      "{'Primary education': 12791, 'No formal education': 4515, 'Secondary education': 4223, 'Tertiary education': 1157, 'Vocational/Specialised training': 803, 'Other/Dont know/RTA': 35}\n"
     ]
    },
    {
     "data": {
      "text/plain": [
       "{'Primary education': 1093,\n",
       " 'Secondary education': 983,\n",
       " 'Tertiary education': 591,\n",
       " 'Vocational/Specialised training': 458,\n",
       " 'No formal education': 176,\n",
       " 'Other/Dont know/RTA': 11}"
      ]
     },
     "execution_count": 15,
     "metadata": {},
     "output_type": "execute_result"
    }
   ],
   "source": [
    "mask = data[\"bank_account\"] == \"Yes\"\n",
    "dataY = data[mask]\n",
    "el_dictY = dataY[\"education_level\"].value_counts().to_dict()\n",
    "print(el_dict)\n",
    "el_dictY"
   ]
  },
  {
   "cell_type": "code",
   "execution_count": 16,
   "id": "a11884bc",
   "metadata": {},
   "outputs": [
    {
     "data": {
      "text/plain": [
       "{'Primary education': 0.09343477517524364,\n",
       " 'No formal education': 0.04056234155335331,\n",
       " 'Secondary education': 0.3033950617283951,\n",
       " 'Tertiary education': 1.0441696113074206,\n",
       " 'Vocational/Specialised training': 1.327536231884058,\n",
       " 'Other/Dont know/RTA': 0.4583333333333333}"
      ]
     },
     "execution_count": 16,
     "metadata": {},
     "output_type": "execute_result"
    }
   ],
   "source": [
    "proportion = {}\n",
    "for key, value in el_dict.items():\n",
    "    for keyY, valueY in el_dictY.items():\n",
    "        if key == keyY:\n",
    "            proportion[key] = valueY / (value - valueY)\n",
    "\n",
    "proportion"
   ]
  },
  {
   "cell_type": "code",
   "execution_count": 17,
   "id": "48843107",
   "metadata": {},
   "outputs": [
    {
     "data": {
      "text/plain": [
       "Text(0.5, 1.0, 'Proportion of Bank Account with Education Level')"
      ]
     },
     "execution_count": 17,
     "metadata": {},
     "output_type": "execute_result"
    },
    {
     "data": {
      "image/png": "[encoded data removed]",
      "text/plain": [
       "<Figure size 432x288 with 1 Axes>"
      ]
     },
     "metadata": {
      "needs_background": "light"
     },
     "output_type": "display_data"
    }
   ],
   "source": [
    "categories = list(proportion.keys())\n",
    "values = list(proportion.values())\n",
    "\n",
    "sns.barplot(y=categories, x=values, order=elevel_dict, color='blue')\n",
    "plt.xlabel(\"Proportion\")\n",
    "plt.ylabel(\"Education Level\")\n",
    "plt.title(\"Proportion of Bank Account with Education Level\")"
   ]
  },
  {
   "cell_type": "markdown",
   "id": "cce9e94c",
   "metadata": {},
   "source": [
    "This visualization shows a strong relatioship between the level of education and bank account. **The proportion of persons with a bank account increases with the level of education**"
   ]
  },
  {
   "cell_type": "markdown",
   "id": "d995ce94",
   "metadata": {},
   "source": [
    "### Job Type"
   ]
  },
  {
   "cell_type": "code",
   "execution_count": 18,
   "id": "f5dd589d",
   "metadata": {
    "scrolled": true
   },
   "outputs": [
    {
     "data": {
      "image/png": "[encoded data removed]",
      "text/plain": [
       "<Figure size 432x288 with 1 Axes>"
      ]
     },
     "metadata": {
      "needs_background": "light"
     },
     "output_type": "display_data"
    }
   ],
   "source": [
    "sns.countplot(\n",
    "    y=\"job_type\",\n",
    "    hue=\"bank_account\",\n",
    "    data=data\n",
    ")\n",
    "plt.title(\"Job Types: With vs Without Bank Account\");"
   ]
  },
  {
   "cell_type": "markdown",
   "id": "41a60336",
   "metadata": {},
   "source": [
    "**More formally employed people have a bank account**"
   ]
  },
  {
   "cell_type": "markdown",
   "id": "8a71ee07",
   "metadata": {},
   "source": [
    "### Correlation"
   ]
  },
  {
   "cell_type": "code",
   "execution_count": 19,
   "id": "18a832e8",
   "metadata": {},
   "outputs": [
    {
     "data": {
      "image/png": "[encoded data removed]",
      "text/plain": [
       "<Figure size 432x288 with 2 Axes>"
      ]
     },
     "metadata": {
      "needs_background": "light"
     },
     "output_type": "display_data"
    }
   ],
   "source": [
    "# plotting a correlation heat map (Numerical values only)\n",
    "corr = data.drop(columns=\"bank_account\").corr()\n",
    "sns.heatmap(corr);"
   ]
  },
  {
   "cell_type": "markdown",
   "id": "0cbeb65f",
   "metadata": {},
   "source": [
    "There is no correlation in pur numerical values. We will check for correlation of all the variables in the next part after encoding"
   ]
  }
 ],
 "metadata": {
  "kernelspec": {
   "display_name": "Python 3 (ipykernel)",
   "language": "python",
   "name": "python3"
  },
  "language_info": {
   "codemirror_mode": {
    "name": "ipython",
    "version": 3
   },
   "file_extension": ".py",
   "mimetype": "text/x-python",
   "name": "python",
   "nbconvert_exporter": "python",
   "pygments_lexer": "ipython3",
   "version": "3.9.12"
  }
 },
 "nbformat": 4,
 "nbformat_minor": 5
}
